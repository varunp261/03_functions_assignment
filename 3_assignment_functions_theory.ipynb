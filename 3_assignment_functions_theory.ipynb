{
 "cells": [
  {
   "cell_type": "code",
   "execution_count": 8,
   "id": "4b65be65-5624-4c51-9cb1-942448341756",
   "metadata": {},
   "outputs": [
    {
     "data": {
      "text/plain": [
       "5"
      ]
     },
     "execution_count": 8,
     "metadata": {},
     "output_type": "execute_result"
    }
   ],
   "source": [
    "# What is the difference between functions and methods in pythons ?\n",
    "\n",
    "'''\n",
    "\n",
    "Functions:- Function is a reusable block of code that is indenpendent and is callded from anywhere in the program.Defined using the 'def' keyword.\n",
    "It may include arguments in it.\n",
    "\n",
    "Methods:- A method is similar to a function but is associated with an object (usually a class instance). \n",
    "Methods operate on the data contained within the object and are defined within a class.Methods are called using the notion such as \n",
    "'object.method()'\n",
    "\n",
    "'''\n",
    "\n",
    "#Function Example\n",
    "def add (a,b):\n",
    "    return a + b\n",
    "\n",
    "my_result = add(1,2)\n",
    "my_resut\n",
    "\n",
    "\n",
    "#Method Example\n",
    "class Calculate:\n",
    "    def add(self,a,b):\n",
    "        return a + b\n",
    "cal = Calculate()\n",
    "my_result2 = cal.add(2,3)\n",
    "my_result2"
   ]
  },
  {
   "cell_type": "code",
   "execution_count": 19,
   "id": "0a4574f4-07a2-4e7f-bad0-9eb8d45c6e4f",
   "metadata": {},
   "outputs": [
    {
     "name": "stdout",
     "output_type": "stream",
     "text": [
      "Hello, Alice!\n"
     ]
    }
   ],
   "source": [
    "# What is the concept of function agruments and parameters in python ?\n",
    "'''\n",
    "Parameters:-\n",
    "Definition: Parameters are the variables listed inside the parentheses in the function definition.\n",
    "\n",
    "Arguments:-\n",
    "Arguments are the actual values passed to the function when it is called.\n",
    "\n",
    "'''\n",
    "\n",
    "#Parameter example\n",
    "def greet(name):  # Here, 'name' is a parameter\n",
    "    print(f\"Hello, {name}!\")\n",
    "\n",
    "#Agrument example\n",
    "greet(\"Alice\")  # Here, \"Alice\" is an argument passed to the function\n",
    "\n"
   ]
  },
  {
   "cell_type": "code",
   "execution_count": 6,
   "id": "1514dffe-cba3-4427-aa3c-326174d579b6",
   "metadata": {},
   "outputs": [
    {
     "data": {
      "text/plain": [
       "105"
      ]
     },
     "execution_count": 6,
     "metadata": {},
     "output_type": "execute_result"
    }
   ],
   "source": [
    "# What are the different ways for calling the function ?\n",
    "\n",
    "#The different ways for calling the function are mentioned below:\n",
    "\n",
    "#Normal Already defined Function Calling\n",
    "#print(\"hello world\")\n",
    "\n",
    "#Function calling along with user defined parameters\n",
    "def myaddfunction(a,b):\n",
    "    return a + b\n",
    "myaddfunction(10,20)\n",
    "\n",
    "# Function calling with default parameters\n",
    "def myaddfunction2(a,b=20):\n",
    "    return a + b\n",
    "myaddfunction2(20)\n",
    "\n",
    "# Function calling using the parameter names\n",
    "def myaddfunction3(a,b):\n",
    "    return f\"The values of a is {a} and b is {b}\"\n",
    "myaddfunction3(10,20)\n",
    "\n",
    "# Function calling using the variable number *args\n",
    "def myaddfunction4(*args):\n",
    "    return sum(args)\n",
    "myaddfunction4(1,2,3,99)"
   ]
  },
  {
   "cell_type": "code",
   "execution_count": 8,
   "id": "a78f081a-d7b4-4e1c-90bd-75c463800333",
   "metadata": {},
   "outputs": [
    {
     "data": {
      "text/plain": [
       "('Varun', 23)"
      ]
     },
     "execution_count": 8,
     "metadata": {},
     "output_type": "execute_result"
    }
   ],
   "source": [
    "# what is the purpose of the 'return' statement in Pyton function ? \n",
    "\n",
    "'''\n",
    "The primary purpose of the return statement is to exit a function and pass a value back to the caller. \n",
    "The value specified after return is what the function will output.\n",
    "\n",
    "'''\n",
    "\n",
    "#e.g 1\n",
    "\n",
    "def add(a, b):\n",
    "    return a + b\n",
    "\n",
    "result = add(5, 3)  # result will be 8\n",
    "\n",
    "# e.g 2 returning multiple values\n",
    "def get_myname_age(name,age):\n",
    "    return name,age\n",
    "\n",
    "get_myname_age(\"Varun\",23)\n",
    "\n"
   ]
  },
  {
   "cell_type": "code",
   "execution_count": 11,
   "id": "77c04f5a-191b-4cd6-9ff0-3dd4a6878ff9",
   "metadata": {},
   "outputs": [
    {
     "name": "stdout",
     "output_type": "stream",
     "text": [
      "v\n",
      "a\n",
      "r\n",
      "u\n",
      "n\n"
     ]
    },
    {
     "data": {
      "text/plain": [
       "'v'"
      ]
     },
     "execution_count": 11,
     "metadata": {},
     "output_type": "execute_result"
    }
   ],
   "source": [
    "# What are iterators in Python and how do they differe from iterables ? \n",
    "\n",
    "'''\n",
    "Iterables:- These are python objects that are  capable of returning its members one at a time, they are iterated in a loop.\n",
    "\n",
    "Iterators:- It is an object representing a stream of data, returning the data values one at a item, uses the 'iter' keyword.\n",
    "\n",
    "'''\n",
    "#eg\n",
    "var = \"varun\" # string is an iterable object\n",
    "for i in var:\n",
    "    print(i)\n",
    "\n",
    "## using the iterator keyword\n",
    "iter(var)\n",
    "myres = iter(var)\n",
    "next(myres) "
   ]
  },
  {
   "cell_type": "code",
   "execution_count": null,
   "id": "b1577a95-7718-4a44-84c0-c68d5536f8ea",
   "metadata": {},
   "outputs": [],
   "source": [
    "# Explain the concept of generators in Python and how they are defined\n",
    "\n",
    "'''\n",
    "Generators: They are type of iterable, like lists or tuples, but they allow for efficient and lazy evaluation of items. \n",
    "Generators produce items one at a time and only when requested, which makes them memory-efficient for handling large datasets or streams of data\n",
    "it uses the 'yield' keyword instead of the return keyword\n",
    "'''\n",
    "\n",
    "#eg\n",
    "\n",
    "def square_number_generators(n):\n",
    "    for i in range(n):\n",
    "        yield i**2\n"
   ]
  },
  {
   "cell_type": "code",
   "execution_count": 16,
   "id": "04aac572-103b-4507-b75b-a48c5703ed60",
   "metadata": {},
   "outputs": [],
   "source": [
    "# What are the advantages of using generators over regular functions ? \n",
    "\n",
    "'''\n",
    "Regular functions calculates the values and returns in one go due to which it would take a lot of execution time \n",
    "if there is a lot of computation to be done and then the calcuation will be returned in one go.\n",
    "\n",
    "Whereas in Generators it will return the result one by one instead in one go\n",
    "\n",
    "'''\n",
    "\n",
    "#eg \n",
    "\n",
    "def area_circle_generators(n):\n",
    "    for i in range(n):\n",
    "        yield (3.14 * (i**2))\n",
    "#a = area_circle_generators(20)\n",
    "##next(a)"
   ]
  },
  {
   "cell_type": "code",
   "execution_count": 17,
   "id": "d1adabbd-3670-47ad-959b-96b51503c94b",
   "metadata": {},
   "outputs": [
    {
     "data": {
      "text/plain": [
       "0.0"
      ]
     },
     "execution_count": 17,
     "metadata": {},
     "output_type": "execute_result"
    }
   ],
   "source": [
    "# What is a lambda function and when it is typically used ? \n",
    "\n",
    "'''\n",
    " Lambda functions are typically used for short, simple operations, it is an an anonymous function\n",
    " It is used  with built-in functions like sort(), sorted(), filter(), and map().\n",
    "'''"
   ]
  },
  {
   "cell_type": "code",
   "execution_count": 1,
   "id": "9a881473-4304-46a3-a854-8514ebeb918d",
   "metadata": {},
   "outputs": [
    {
     "name": "stdout",
     "output_type": "stream",
     "text": [
      "[2, 4, 6, 8]\n"
     ]
    }
   ],
   "source": [
    "# Explain the usage of the map function in Python and when it is typically used ? \n",
    "\n",
    "'''\n",
    "Map - The map() function in Python is used to apply a given function to each item of an iterable (e.g., list, tuple, or set) \n",
    "        and return a map object (an iterator) containing the results.\n",
    "\n",
    "'''\n",
    "\n",
    "# Doubling each number in the list\n",
    "numbers = [1, 2, 3, 4]\n",
    "doubled = map(lambda x: x * 2, numbers)\n",
    "print(list(doubled))  # Output: [2, 4, 6, 8]\n"
   ]
  },
  {
   "cell_type": "code",
   "execution_count": 2,
   "id": "1fc7673f-a627-4e65-a0b4-c29a908ab288",
   "metadata": {},
   "outputs": [
    {
     "name": "stdout",
     "output_type": "stream",
     "text": [
      "[1, 4, 9, 16, 25]\n",
      "[4, 16]\n",
      "20\n"
     ]
    }
   ],
   "source": [
    "# What is the difference between map(),filter(),reduce(), functions in python\n",
    "\n",
    "'''\n",
    "map(): Transforms each element in an iterable using a specified function\n",
    "\n",
    "filter(): Selects elements from an iterable based on a function's True or False return value.\n",
    "\n",
    "reduce(): Combines elements in an iterable into a single cumulative result based on a specified function.\n",
    "\n",
    "\n",
    "e.g\n",
    "Suppose you have a list of numbers and you want to perform the following operations:\n",
    "\n",
    "Square each number.\n",
    "Filter out the squares that are even.\n",
    "Sum the filtered even squares.\n",
    "\n",
    "'''\n",
    "\n",
    "#using map()\n",
    "numbers = [1, 2, 3, 4, 5]\n",
    "squared_numbers = list(map(lambda x: x ** 2, numbers))\n",
    "print(squared_numbers)  # Output: [1, 4, 9, 16, 25]\n",
    "\n",
    "#using filter()\n",
    "even_squares = list(filter(lambda x: x % 2 == 0, squared_numbers))\n",
    "print(even_squares)  # Output: [4, 16]\n",
    "\n",
    "#using reduce()\n",
    "from functools import reduce\n",
    "sum_of_even_squares = reduce(lambda x, y: x + y, even_squares)\n",
    "print(sum_of_even_squares)  # Output: 20\n"
   ]
  },
  {
   "cell_type": "code",
   "execution_count": 4,
   "id": "50690c31-990f-42cf-9335-dcb14b7b09e8",
   "metadata": {},
   "outputs": [
    {
     "data": {
      "text/plain": [
       "113"
      ]
     },
     "execution_count": 4,
     "metadata": {},
     "output_type": "execute_result"
    }
   ],
   "source": [
    "# sum operation using the reduce function\n",
    "\n",
    "\n",
    "numbers = [47,11,42,13]\n",
    "\n",
    "reduce(lambda x,y : x+y,numbers)"
   ]
  }
 ],
 "metadata": {
  "kernelspec": {
   "display_name": "Python 3 (ipykernel)",
   "language": "python",
   "name": "python3"
  },
  "language_info": {
   "codemirror_mode": {
    "name": "ipython",
    "version": 3
   },
   "file_extension": ".py",
   "mimetype": "text/x-python",
   "name": "python",
   "nbconvert_exporter": "python",
   "pygments_lexer": "ipython3",
   "version": "3.11.7"
  }
 },
 "nbformat": 4,
 "nbformat_minor": 5
}
