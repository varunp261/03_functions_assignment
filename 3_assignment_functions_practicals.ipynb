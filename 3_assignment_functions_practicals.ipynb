{
 "cells": [
  {
   "cell_type": "code",
   "execution_count": 20,
   "id": "633ff40f-2e72-4343-ae9a-0acabc29e78a",
   "metadata": {},
   "outputs": [
    {
     "name": "stdout",
     "output_type": "stream",
     "text": [
      "Sum of even numbers: 20\n",
      "List of even numbers: [2, 4, 6, 8]\n",
      "List of odd numbers: [1, 3]\n"
     ]
    }
   ],
   "source": [
    "# 1) Write a python program that makes a list of numbers as input and returns the sum of all the even numbers in the list\n",
    "\n",
    "\n",
    "## first create a list \n",
    "## try to return that list \n",
    "### to check the even and odd  \n",
    "#### to find the sum and group the above 3 steps in it \n",
    "\n",
    "# a = 20\n",
    "# if(a%2 == 0):\n",
    "#     print(\"The number is even\")\n",
    "# else:\n",
    "#     print(\"The number is odd\")\n",
    "\n",
    "\n",
    "# def isnum_even_odd(n):\n",
    "#     if(n%2==0):\n",
    "#         print(\"The number is even\")\n",
    "#     else:\n",
    "#         print(\"The number is odd\")\n",
    "\n",
    "\n",
    "def isnum_even_odd():\n",
    "    a = [1, 2, 3, 4, 6, 8]\n",
    "    b = []  # to store even numbers\n",
    "    c = []  # to store odd numbers\n",
    "\n",
    "    for i in a:\n",
    "        if i % 2 == 0:\n",
    "            b.append(i)\n",
    "        else:\n",
    "            c.append(i)\n",
    "    \n",
    "    mysum = sum(b)\n",
    "    return mysum, b, c  # returns sum of even numbers  list of even numbers and odd numbers\n",
    "\n",
    "# Example usage\n",
    "even_sum, even_list,odd_list = isnum_even_odd()\n",
    "print(\"Sum of even numbers:\", even_sum)\n",
    "print(\"List of even numbers:\",even_list)\n",
    "print(\"List of odd numbers:\", odd_list)\n"
   ]
  },
  {
   "cell_type": "code",
   "execution_count": 22,
   "id": "101ffd30-d72d-48a2-93b1-33e6af3bc4b7",
   "metadata": {},
   "outputs": [
    {
     "data": {
      "text/plain": [
       "'nuraV ma I olleh'"
      ]
     },
     "execution_count": 22,
     "metadata": {},
     "output_type": "execute_result"
    }
   ],
   "source": [
    "# 2) Create a function in python that accepts a string and returns the reverse of that string\n",
    "\n",
    "def reverse_string(input_string):\n",
    "    return input_string[::-1]\n",
    "\n",
    "\n",
    "reverse_string(\"hello I am Varun\")\n",
    "\n",
    "\n"
   ]
  },
  {
   "cell_type": "code",
   "execution_count": 28,
   "id": "15cfbc8f-90b0-4944-9a6c-8d7ea9e66d8a",
   "metadata": {},
   "outputs": [
    {
     "name": "stdout",
     "output_type": "stream",
     "text": [
      "The square of the input list is [1, 4, 9, 16]\n"
     ]
    }
   ],
   "source": [
    "# 3) Implement a python function that takes a list of intergers and returns a new list containing the squares of each number\n",
    "\n",
    "# for taking multiple using the *args method\n",
    "\n",
    "def mysquare(*n):\n",
    "    result = []\n",
    "    for i in n:\n",
    "        result.append(i ** 2)\n",
    "    return result\n",
    "\n",
    "print(\"The square of the input list is \" + str(mysquare(1,2,3,4))) ## using str to convert the list into string\n"
   ]
  },
  {
   "cell_type": "code",
   "execution_count": 35,
   "id": "8184574d-a52c-4b98-ae63-c001f8180dba",
   "metadata": {},
   "outputs": [
    {
     "name": "stdout",
     "output_type": "stream",
     "text": [
      "Prime numbers are listed -> [3, 6, 7, 9, 11, 12, 13, 14, 15, 16, 17, 18, 19, 21, 22, 23, 24, 26, 27, 28, 29, 30, 31, 32, 33, 34, 35, 36, 37, 38, 39, 41, 42, 43, 44, 45, 46, 47, 48, 49, 51, 52, 53, 54, 55, 56, 57, 58, 59, 60, 61, 62, 63, 64, 65, 66, 67, 68, 69, 70, 71, 72, 73, 74, 75, 76, 77, 78, 79, 80, 81, 82, 83, 84, 85, 86, 87, 88, 89, 90, 91, 92, 93, 94, 95, 96, 97, 98, 99, 101, 102, 103, 104, 105, 106, 107, 108, 109, 110, 111, 112, 113, 114, 115, 116, 117, 118, 119, 120, 121, 122, 123, 124, 125, 126, 127, 128, 129, 130, 131, 132, 133, 134, 135, 136, 137, 138, 139, 140, 141, 142, 143, 144, 145, 146, 147, 148, 149, 150, 151, 152, 153, 154, 155, 156, 157, 158, 159, 160, 161, 162, 163, 164, 165, 166, 167, 168, 169, 170, 171, 172, 173, 174, 175, 176, 177, 178, 179, 180, 181, 182, 183, 184, 185, 186, 187, 188, 189, 190, 191, 192, 193, 194, 195, 196, 197, 198, 199]\n"
     ]
    }
   ],
   "source": [
    "# 4) Write a python function that checks if a given number is prime or not from 1 to 200\n",
    "\n",
    "def is_Prime(n):\n",
    "    result = []\n",
    "    for i in range(2,n):\n",
    "        if (n%i != 0):\n",
    "            result.append(i)\n",
    "    return result\n",
    "\n",
    "#is_Prime(200)\n",
    "print(\"Prime numbers are listed -> \" + str(is_Prime(200))) ## using str to convert the list into string            "
   ]
  },
  {
   "cell_type": "code",
   "execution_count": 7,
   "id": "841180be-7eec-4a6f-821b-2ec4ae53f856",
   "metadata": {},
   "outputs": [],
   "source": [
    "# 5) Create an interator class in python that generates the Fibonacci sequence number of terms\n",
    "\n",
    "def fin(n):\n",
    "    a = 0,\n",
    "    b = 1,\n",
    "    for i in range (n):\n",
    "        yield a\n",
    "        a,b = b,a+b\n",
    "f  = fin(5)\n",
    "next(f)"
   ]
  },
  {
   "cell_type": "code",
   "execution_count": 11,
   "id": "697227e5-85a4-4c76-8f8e-7d7531247e74",
   "metadata": {},
   "outputs": [
    {
     "data": {
      "text/plain": [
       "64"
      ]
     },
     "execution_count": 11,
     "metadata": {},
     "output_type": "execute_result"
    }
   ],
   "source": [
    "# 6) Write a generator function in python that yields the powers of 2 up to a given exponent\n",
    "\n",
    "def square(n):\n",
    "    yield n**2\n",
    "\n",
    "a = square(8)\n",
    "next(a)"
   ]
  },
  {
   "cell_type": "code",
   "execution_count": 12,
   "id": "e4e00537-dffe-43cf-8d61-e63bbcbe3800",
   "metadata": {},
   "outputs": [],
   "source": [
    "# 7) Implement a generator function that reads a file line by line and yields each line as string\n",
    "\n",
    "\n"
   ]
  },
  {
   "cell_type": "code",
   "execution_count": 13,
   "id": "297d5ba4-0df7-458f-b36a-accdc8745b2f",
   "metadata": {},
   "outputs": [
    {
     "name": "stdout",
     "output_type": "stream",
     "text": [
      "[(4, 1), (1, 2), (3, 3), (2, 5)]\n"
     ]
    }
   ],
   "source": [
    "# 8) Use a lambda function in python to sort a list of tuples based on the second element of each tuple\n",
    "\n",
    "tuples_list = [(2, 5), (1, 2), (4, 1), (3, 3)]\n",
    "sorted_list = sorted(tuples_list, key=lambda x: x[1])\n",
    "print(sorted_list)\n"
   ]
  },
  {
   "cell_type": "code",
   "execution_count": 17,
   "id": "1c2103e1-acf6-48c9-89ec-635341379014",
   "metadata": {},
   "outputs": [
    {
     "name": "stdout",
     "output_type": "stream",
     "text": [
      "[73.4, 77.0, 449.6]\n"
     ]
    }
   ],
   "source": [
    "# 9) Write a python program that uses map() to convert a list of temperature from celsius to Fahrenhiet\n",
    "\n",
    "def mytemp(*n):\n",
    "    to_fahrenheit = [((temp * 9/5) + 32) for temp in n]\n",
    "    return to_fahrenheit\n",
    "\n",
    "print(mytemp(23, 25, 232))\n",
    "\n",
    "\n"
   ]
  },
  {
   "cell_type": "code",
   "execution_count": 21,
   "id": "c474056e-3a92-4d29-a4eb-8bbfd1a6d862",
   "metadata": {},
   "outputs": [
    {
     "name": "stdout",
     "output_type": "stream",
     "text": [
      "Vowels found: a, u\n"
     ]
    }
   ],
   "source": [
    "# 10) Write a program that uses filter() to remove the vowels from a given string\n",
    "\n",
    "def disp_Vowel(n):\n",
    "    n = n.lower()\n",
    "    result = []\n",
    "    \n",
    "    for i in n:\n",
    "        if i in ['a', 'e', 'i', 'o', 'u']:\n",
    "            result.append(i)\n",
    "    \n",
    "    if result:\n",
    "        print(f\"Vowels found: {', '.join(result)}\")\n",
    "    else:\n",
    "        print(\"The entered string does not contain any vowels.\")\n",
    "\n",
    "disp_Vowel(\"Varun\")   \n",
    "\n",
    "\n",
    "lambda x = for i in x"
   ]
  },
  {
   "cell_type": "code",
   "execution_count": 1,
   "id": "2480601d-e0ff-4ead-a21e-45134ab4f8c2",
   "metadata": {},
   "outputs": [],
   "source": [
    "# 11) Write a program which returns a list with 2 tuples each tuple consists of the order number and the product of the price per item and the quantity. The product should be increased by 10 if the value of the orser is smaller than 100,000C "
   ]
  },
  {
   "cell_type": "code",
   "execution_count": null,
   "id": "09844d13-c67c-4715-a7bc-cda099975e17",
   "metadata": {},
   "outputs": [],
   "source": []
  }
 ],
 "metadata": {
  "kernelspec": {
   "display_name": "Python 3 (ipykernel)",
   "language": "python",
   "name": "python3"
  },
  "language_info": {
   "codemirror_mode": {
    "name": "ipython",
    "version": 3
   },
   "file_extension": ".py",
   "mimetype": "text/x-python",
   "name": "python",
   "nbconvert_exporter": "python",
   "pygments_lexer": "ipython3",
   "version": "3.11.7"
  }
 },
 "nbformat": 4,
 "nbformat_minor": 5
}
